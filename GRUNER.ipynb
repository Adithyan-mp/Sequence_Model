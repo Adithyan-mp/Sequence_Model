{
  "cells": [
    {
      "cell_type": "markdown",
      "metadata": {
        "id": "view-in-github",
        "colab_type": "text"
      },
      "source": [
        "<a href=\"https://colab.research.google.com/github/Adithyan-mp/Sequence_Model/blob/main/GRUNER.ipynb\" target=\"_parent\"><img src=\"https://colab.research.google.com/assets/colab-badge.svg\" alt=\"Open In Colab\"/></a>"
      ]
    },
    {
      "cell_type": "code",
      "execution_count": 2,
      "metadata": {
        "id": "G3KEMrs2hKi3"
      },
      "outputs": [],
      "source": [
        "import torch\n",
        "import numpy as np\n",
        "import pandas as pd\n",
        "from sklearn.model_selection import train_test_split\n",
        "import re\n",
        "from collections import Counter\n",
        "from torch.nn.utils.rnn import pad_sequence\n",
        "from torch import nn\n",
        "from torch.utils.data import Dataset,DataLoader"
      ]
    },
    {
      "cell_type": "code",
      "source": [
        "# Load dataset\n",
        "df = pd.read_csv('/content/ner.csv')\n",
        "x = df['Sentence']\n",
        "y = df['Tag']\n",
        "\n",
        "# Preprocess sentences\n",
        "def clean_dataset(sentence):\n",
        "    sentence = sentence.lower()\n",
        "    sentence = re.sub(r'[^\\w\\s]', '', sentence)\n",
        "    sentence = re.sub(r'\\s+', ' ', sentence)\n",
        "    sentence = sentence.split()\n",
        "    sentence.append('<EOS>')\n",
        "    return sentence\n",
        "\n",
        "# Tokenize with vocab\n",
        "def tokenization(sentence, vocab: dict):\n",
        "    return torch.tensor([vocab.get(token, vocab['<UNK>']) for token in sentence])\n",
        "\n",
        "# Create tokenized and padded data\n",
        "def get_tokenization(data, target=False, MAX_LEN=60):\n",
        "    data_token = [clean_dataset(sentence) for sentence in data]\n",
        "    frequency_word = Counter([token for sentence in data_token for token in sentence])\n",
        "    vocab = {token: idx + 2 for idx, (token, _) in enumerate(frequency_word.most_common())}\n",
        "    vocab['<PAD>'] = 0\n",
        "    vocab['<UNK>'] = 1\n",
        "    tokenized = [tokenization(sentence, vocab)[:MAX_LEN] for sentence in data_token]\n",
        "    tokenized = pad_sequence(tokenized, batch_first=True, padding_value=0)\n",
        "    return data_token, tokenized, vocab\n",
        "\n",
        "# Tokenize input and output\n",
        "data_token_x, tokenized_x, vocab_x = get_tokenization(x)\n",
        "data_token_y, tokenized_y, vocab_y = get_tokenization(y, target=True)\n",
        "\n",
        "# Train/test split\n",
        "x_train, x_test, y_train, y_test = train_test_split(tokenized_x, tokenized_y, test_size=0.2, random_state=32)\n",
        "\n",
        "# Custom Dataset\n",
        "class CustomDataset(Dataset):\n",
        "    def __init__(self, inputs, labels):\n",
        "        self.inputs = inputs\n",
        "        self.labels = labels\n",
        "\n",
        "    def __len__(self):\n",
        "        return len(self.inputs)\n",
        "\n",
        "    def __getitem__(self, index):\n",
        "        return self.inputs[index], self.labels[index]\n",
        "\n",
        "class GRU(nn.Module):\n",
        "    def __init__(self, hidden_state, vocab_size, output_size, embedding_dim=120):\n",
        "        super(GRU, self).__init__()\n",
        "        self.hidden_state = hidden_state\n",
        "        self.embedding = nn.Embedding(num_embeddings=vocab_size, embedding_dim=embedding_dim, padding_idx=0)\n",
        "\n",
        "        self.relevance_gate = nn.Linear(hidden_state + embedding_dim, hidden_state)\n",
        "        self.update_gate = nn.Linear(hidden_state + embedding_dim, hidden_state)\n",
        "        self.candidate_layer = nn.Linear(hidden_state + embedding_dim, hidden_state)\n",
        "\n",
        "        self.output_layer = nn.Linear(hidden_state, output_size)\n",
        "\n",
        "    def forward(self, x):\n",
        "        batch_size, seq_len = x.size()\n",
        "        device = x.device\n",
        "        h_prev = torch.zeros(batch_size, self.hidden_state, device=device)\n",
        "\n",
        "        embedded = self.embedding(x)  # (batch_size, seq_len, embedding_dim)\n",
        "        outputs = []\n",
        "\n",
        "        for i in range(seq_len):\n",
        "            x_t = embedded[:, i, :]  # (batch_size, embedding_dim)\n",
        "            combined = torch.cat((x_t, h_prev), dim=1)\n",
        "\n",
        "            z = torch.sigmoid(self.update_gate(combined))  # Update gate\n",
        "            r = torch.sigmoid(self.relevance_gate(combined))  # Relevance gate\n",
        "            combined_reset = torch.cat((x_t, r * h_prev), dim=1)\n",
        "\n",
        "            h_tilde = torch.tanh(self.candidate_layer(combined_reset))\n",
        "            h_prev = (1 - z) * h_prev + z * h_tilde\n",
        "\n",
        "            output = self.output_layer(h_prev)\n",
        "            outputs.append(output.unsqueeze(1))  # (batch_size, 1, output_size)\n",
        "\n",
        "        outputs = torch.cat(outputs, dim=1)  # (batch_size, seq_len, output_size)\n",
        "        return outputs\n",
        "\n",
        "# Setup device and model\n",
        "device = torch.device(\"cuda\" if torch.cuda.is_available() else \"cpu\")\n",
        "model = GRU(hidden_state=80, vocab_size=len(vocab_x), output_size=len(vocab_y)).to(device)\n",
        "\n",
        "# Create dataset and dataloader\n",
        "dataset = CustomDataset(inputs=x_train, labels=y_train)\n",
        "dataloader = DataLoader(dataset=dataset, batch_size=64, shuffle=True)\n",
        "\n",
        "# Loss and optimizer\n",
        "optimizer = torch.optim.Adam(model.parameters(), lr=0.001)\n",
        "criterion = nn.CrossEntropyLoss(ignore_index=0)  # ignore padding index\n",
        "\n",
        "# Training loop\n",
        "num_epochs = 5\n",
        "for epoch in range(num_epochs):\n",
        "    model.train()\n",
        "    total_loss = 0\n",
        "\n",
        "    for x_batch, y_batch in dataloader:\n",
        "        x_batch = x_batch.to(device)\n",
        "        y_batch = y_batch.to(device)\n",
        "\n",
        "        logits = model(x_batch)  # (batch_size, seq_len, output_size)\n",
        "        logits = logits.view(-1, logits.size(-1))  # (batch_size * seq_len, output_size)\n",
        "        y_batch = y_batch.view(-1)  # (batch_size * seq_len)\n",
        "\n",
        "        loss = criterion(logits, y_batch)\n",
        "        total_loss += loss.item()\n",
        "\n",
        "        optimizer.zero_grad()\n",
        "        loss.backward()\n",
        "        optimizer.step()\n",
        "\n",
        "    print(f\"Epoch [{epoch + 1}/{num_epochs}], Loss: {total_loss / len(dataloader):.4f}\")"
      ],
      "metadata": {
        "colab": {
          "base_uri": "https://localhost:8080/"
        },
        "id": "wsdVxgWqzEoY",
        "outputId": "63be70cf-f61d-499b-96ee-84581b9a0184"
      },
      "execution_count": 8,
      "outputs": [
        {
          "output_type": "stream",
          "name": "stdout",
          "text": [
            "Epoch [1/5], Loss: 0.7036\n",
            "Epoch [2/5], Loss: 0.4160\n",
            "Epoch [3/5], Loss: 0.3459\n",
            "Epoch [4/5], Loss: 0.3077\n",
            "Epoch [5/5], Loss: 0.2792\n"
          ]
        }
      ]
    },
    {
      "cell_type": "code",
      "source": [
        "sample_input = x_test[9]\n",
        "sample_output = y_test[9]\n",
        "print(sample_input)\n",
        "idx2tag = {value:key for key,value in vocab_y.items()}\n",
        "\n",
        "logit = model(sample_input.view(-1,60))\n",
        "print(logit.view(-1,20).size())\n",
        "y_pred = torch.softmax(logit.view(-1,20),dim=1)\n",
        "\n",
        "y_pred = torch.argmax(y_pred,axis=1)\n",
        "\n",
        "predicted_tags = [idx2tag[i.item()] for i in y_pred if not idx2tag[i.item()] == \"<EOS>\"]\n",
        "actual_tags = [idx2tag[i.item()] for i in sample_output if not idx2tag[i.item()] == \"<EOS>\" and not idx2tag[i.item()]==\"<PAD>\"]\n",
        "\n",
        "# Step 4: Print\n",
        "print(f\"Predicted Tags: {predicted_tags}\")\n",
        "print(f\"Actual Tags:    {actual_tags}\")"
      ],
      "metadata": {
        "colab": {
          "base_uri": "https://localhost:8080/"
        },
        "id": "CGpx9qvaXpl3",
        "outputId": "501e042c-088b-40a5-9020-027009d99b71"
      },
      "execution_count": 15,
      "outputs": [
        {
          "output_type": "stream",
          "name": "stdout",
          "text": [
            "tensor([1171,   33, 2985, 2344,   52,   13, 1320,   10, 2426,    4,  186,  185,\n",
            "           9,  313,  251,   11, 1456,  105,   51,  296,   83, 1837,   72,    4,\n",
            "           2,  133,    3,    0,    0,    0,    0,    0,    0,    0,    0,    0,\n",
            "           0,    0,    0,    0,    0,    0,    0,    0,    0,    0,    0,    0,\n",
            "           0,    0,    0,    0,    0,    0,    0,    0,    0,    0,    0,    0])\n",
            "torch.Size([60, 20])\n",
            "Predicted Tags: ['bgpe', 'bper', 'iper', 'iper', 'o', 'o', 'o', 'o', 'o', 'o', 'o', 'o', 'o', 'o', 'o', 'o', 'o', 'o', 'o', 'o', 'o', 'o', 'o', 'o', 'o', 'o', 'o', 'o']\n",
            "Actual Tags:    ['bgpe', 'bper', 'iper', 'iper', 'o', 'o', 'o', 'o', 'o', 'o', 'o', 'o', 'btim', 'o', 'o', 'o', 'o', 'o', 'o', 'o', 'o', 'o', 'o', 'borg', 'o', 'o', 'o', 'o', 'o']\n"
          ]
        }
      ]
    }
  ],
  "metadata": {
    "colab": {
      "provenance": [],
      "authorship_tag": "ABX9TyNz7sERgfarmpquOgEKrgux",
      "include_colab_link": true
    },
    "kernelspec": {
      "display_name": "Python 3",
      "name": "python3"
    },
    "language_info": {
      "name": "python"
    }
  },
  "nbformat": 4,
  "nbformat_minor": 0
}